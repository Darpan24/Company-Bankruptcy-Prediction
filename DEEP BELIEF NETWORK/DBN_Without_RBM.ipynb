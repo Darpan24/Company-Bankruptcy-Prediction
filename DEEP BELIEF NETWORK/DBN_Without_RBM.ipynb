{
 "cells": [
  {
   "cell_type": "code",
   "execution_count": 1,
   "id": "5157a3d7",
   "metadata": {},
   "outputs": [
    {
     "name": "stderr",
     "output_type": "stream",
     "text": [
      "C:\\Users\\agarw\\anaconda3\\lib\\site-packages\\scipy\\__init__.py:146: UserWarning: A NumPy version >=1.16.5 and <1.23.0 is required for this version of SciPy (detected version 1.26.2\n",
      "  warnings.warn(f\"A NumPy version >={np_minversion} and <{np_maxversion}\"\n"
     ]
    }
   ],
   "source": [
    "import pandas as pd\n",
    "import numpy as np\n",
    "import seaborn as sns\n",
    "import matplotlib.pyplot as plt\n",
    "\n",
    "import warnings\n",
    "warnings.filterwarnings(action=\"ignore\")\n",
    "\n",
    "from sklearn.model_selection import train_test_split\n",
    "from sklearn.metrics import accuracy_score, classification_report\n",
    "from sklearn.ensemble import AdaBoostClassifier\n",
    "from sklearn.neural_network import BernoulliRBM\n",
    "from sklearn.preprocessing import StandardScaler\n",
    "from imblearn.over_sampling import SMOTE\n",
    "import tensorflow as tf\n",
    "from tensorflow.keras.models import Sequential\n",
    "from tensorflow.keras.layers import Dense\n",
    "from sklearn.metrics import roc_curve, auc\n",
    "\n",
    "from sklearn import metrics\n",
    "from sklearn.metrics import confusion_matrix\n",
    "from sklearn.datasets import make_classification\n",
    "from sklearn.metrics import accuracy_score, precision_score, recall_score, f1_score"
   ]
  },
  {
   "cell_type": "code",
   "execution_count": 2,
   "id": "df5c9059",
   "metadata": {},
   "outputs": [],
   "source": [
    "#importing data from the dataset\n",
    "df = pd.read_csv(r\"C:\\Users\\agarw\\OneDrive\\Desktop\\Dissertation\\data.csv\")"
   ]
  },
  {
   "cell_type": "code",
   "execution_count": 3,
   "id": "4368a86b",
   "metadata": {},
   "outputs": [
    {
     "data": {
      "text/plain": [
       "Bankrupt?\n",
       "0    6599\n",
       "1     220\n",
       "Name: count, dtype: int64"
      ]
     },
     "execution_count": 3,
     "metadata": {},
     "output_type": "execute_result"
    }
   ],
   "source": [
    "#checking for bankrupt companies 0 is non-bankrupt and 1 is bankrupt\n",
    "bankrupt_data = df['Bankrupt?'].value_counts()\n",
    "bankrupt_data"
   ]
  },
  {
   "cell_type": "code",
   "execution_count": 4,
   "id": "53ec9d34",
   "metadata": {},
   "outputs": [
    {
     "data": {
      "image/png": "[encoded data removed]",
      "text/plain": [
       "<Figure size 720x360 with 1 Axes>"
      ]
     },
     "metadata": {
      "needs_background": "light"
     },
     "output_type": "display_data"
    }
   ],
   "source": [
    "#Distribution representation\n",
    "plt.figure(figsize = (10,5))\n",
    "colors = [\"#3498db\", \"#e74c3c\"]\n",
    "ax = sns.countplot(x=df['Bankrupt?'], data=df,palette=colors)\n",
    "for p in ax.patches:\n",
    "    ax.annotate(f'{p.get_height()}', (p.get_x() + p.get_width() / 2., p.get_height()),\n",
    "                ha='center', va='center', xytext=(0, 10), textcoords='offset points')\n",
    "# Add labels and title\n",
    "plt.xlabel('Bankrupt')\n",
    "plt.ylabel('Count')\n",
    "plt.title('Distribution of Bankrupt')\n",
    "\n",
    "# Show the plot\n",
    "plt.show()"
   ]
  },
  {
   "cell_type": "code",
   "execution_count": 5,
   "id": "26bc120c",
   "metadata": {},
   "outputs": [],
   "source": [
    "# seperate the Bankrupt label from the dataset \n",
    "y = df['Bankrupt?']\n",
    "X = df.drop(['Bankrupt?'], axis = 1)"
   ]
  },
  {
   "cell_type": "code",
   "execution_count": 6,
   "id": "13df8b52",
   "metadata": {},
   "outputs": [],
   "source": [
    "# divinding our dataset into training dataset\n",
    "X_train, X_temp, y_train, y_temp = train_test_split(X, y, test_size=0.2, random_state=42)"
   ]
  },
  {
   "cell_type": "code",
   "execution_count": 7,
   "id": "bc98c5f0",
   "metadata": {},
   "outputs": [
    {
     "data": {
      "image/png": "[encoded data removed]",
      "text/plain": [
       "<Figure size 720x360 with 1 Axes>"
      ]
     },
     "metadata": {
      "needs_background": "light"
     },
     "output_type": "display_data"
    }
   ],
   "source": [
    "#Distribution representation\n",
    "plt.figure(figsize = (10,5))\n",
    "colors = [\"#3498db\", \"#e74c3c\"]\n",
    "ax = sns.countplot(x=y_train, data=df,palette=colors)\n",
    "for p in ax.patches:\n",
    "    ax.annotate(f'{p.get_height()}', (p.get_x() + p.get_width() / 2., p.get_height()),\n",
    "                ha='center', va='center', xytext=(0, 10), textcoords='offset points')\n",
    "# Add labels and title\n",
    "plt.xlabel('Bankrupt')\n",
    "plt.ylabel('Count')\n",
    "plt.title('Distribution of Bankrupt')\n",
    "\n",
    "# Show the plot\n",
    "plt.show()"
   ]
  },
  {
   "cell_type": "code",
   "execution_count": 8,
   "id": "782ace28",
   "metadata": {},
   "outputs": [],
   "source": [
    "# divinding our dataset into testing and validation \n",
    "X_val, X_test, y_val, y_test = train_test_split(X_temp, y_temp, test_size=0.5, random_state=42)"
   ]
  },
  {
   "cell_type": "code",
   "execution_count": 9,
   "id": "0570dc1a",
   "metadata": {},
   "outputs": [],
   "source": [
    "# Standardize the data\n",
    "scaler = StandardScaler()\n",
    "X_train = scaler.fit_transform(X_train)\n",
    "X_val = scaler.transform(X_val)\n",
    "X_test = scaler.transform(X_test)"
   ]
  },
  {
   "cell_type": "code",
   "execution_count": 10,
   "id": "bd50195c",
   "metadata": {},
   "outputs": [],
   "source": [
    "model = tf.keras.Sequential([\n",
    "    tf.keras.layers.Input(shape=(X_train.shape[1],)),\n",
    "    tf.keras.layers.Dense(64, activation='relu'),\n",
    "    tf.keras.layers.Dense(32, activation='relu'),  \n",
    "    tf.keras.layers.Dense(1, activation='sigmoid') \n",
    "])"
   ]
  },
  {
   "cell_type": "code",
   "execution_count": 11,
   "id": "37e226a0",
   "metadata": {},
   "outputs": [],
   "source": [
    "model.compile(optimizer='adam', loss='binary_crossentropy', metrics=['accuracy'])"
   ]
  },
  {
   "cell_type": "code",
   "execution_count": 12,
   "id": "ba53d1a3",
   "metadata": {},
   "outputs": [
    {
     "data": {
      "text/plain": [
       "(5455, 95)"
      ]
     },
     "execution_count": 12,
     "metadata": {},
     "output_type": "execute_result"
    }
   ],
   "source": [
    "np.shape(X_train)"
   ]
  },
  {
   "cell_type": "code",
   "execution_count": 13,
   "id": "8a88cf51",
   "metadata": {},
   "outputs": [
    {
     "data": {
      "text/plain": [
       "(5455,)"
      ]
     },
     "execution_count": 13,
     "metadata": {},
     "output_type": "execute_result"
    }
   ],
   "source": [
    "np.shape(y_train)"
   ]
  },
  {
   "cell_type": "code",
   "execution_count": 14,
   "id": "56db501f",
   "metadata": {},
   "outputs": [
    {
     "name": "stdout",
     "output_type": "stream",
     "text": [
      "Epoch 1/40\n",
      "171/171 - 1s - 5ms/step - accuracy: 0.9388 - loss: 0.2278\n",
      "Epoch 2/40\n",
      "171/171 - 0s - 838us/step - accuracy: 0.9685 - loss: 0.1040\n",
      "Epoch 3/40\n",
      "171/171 - 0s - 795us/step - accuracy: 0.9698 - loss: 0.0866\n",
      "Epoch 4/40\n",
      "171/171 - 0s - 814us/step - accuracy: 0.9712 - loss: 0.0787\n",
      "Epoch 5/40\n",
      "171/171 - 0s - 820us/step - accuracy: 0.9721 - loss: 0.0736\n",
      "Epoch 6/40\n",
      "171/171 - 0s - 830us/step - accuracy: 0.9751 - loss: 0.0679\n",
      "Epoch 7/40\n",
      "171/171 - 0s - 858us/step - accuracy: 0.9751 - loss: 0.0646\n",
      "Epoch 8/40\n",
      "171/171 - 0s - 790us/step - accuracy: 0.9767 - loss: 0.0619\n",
      "Epoch 9/40\n",
      "171/171 - 0s - 826us/step - accuracy: 0.9773 - loss: 0.0585\n",
      "Epoch 10/40\n",
      "171/171 - 0s - 797us/step - accuracy: 0.9795 - loss: 0.0563\n",
      "Epoch 11/40\n",
      "171/171 - 0s - 939us/step - accuracy: 0.9797 - loss: 0.0521\n",
      "Epoch 12/40\n",
      "171/171 - 0s - 938us/step - accuracy: 0.9793 - loss: 0.0487\n",
      "Epoch 13/40\n",
      "171/171 - 0s - 939us/step - accuracy: 0.9808 - loss: 0.0465\n",
      "Epoch 14/40\n",
      "171/171 - 0s - 851us/step - accuracy: 0.9835 - loss: 0.0441\n",
      "Epoch 15/40\n",
      "171/171 - 0s - 795us/step - accuracy: 0.9841 - loss: 0.0415\n",
      "Epoch 16/40\n",
      "171/171 - 0s - 803us/step - accuracy: 0.9863 - loss: 0.0378\n",
      "Epoch 17/40\n",
      "171/171 - 0s - 795us/step - accuracy: 0.9875 - loss: 0.0347\n",
      "Epoch 18/40\n",
      "171/171 - 0s - 798us/step - accuracy: 0.9866 - loss: 0.0329\n",
      "Epoch 19/40\n",
      "171/171 - 0s - 809us/step - accuracy: 0.9883 - loss: 0.0321\n",
      "Epoch 20/40\n",
      "171/171 - 0s - 813us/step - accuracy: 0.9886 - loss: 0.0301\n",
      "Epoch 21/40\n",
      "171/171 - 0s - 846us/step - accuracy: 0.9890 - loss: 0.0274\n",
      "Epoch 22/40\n",
      "171/171 - 0s - 835us/step - accuracy: 0.9903 - loss: 0.0256\n",
      "Epoch 23/40\n",
      "171/171 - 0s - 848us/step - accuracy: 0.9923 - loss: 0.0213\n",
      "Epoch 24/40\n",
      "171/171 - 0s - 917us/step - accuracy: 0.9941 - loss: 0.0193\n",
      "Epoch 25/40\n",
      "171/171 - 0s - 894us/step - accuracy: 0.9936 - loss: 0.0187\n",
      "Epoch 26/40\n",
      "171/171 - 0s - 843us/step - accuracy: 0.9945 - loss: 0.0167\n",
      "Epoch 27/40\n",
      "171/171 - 0s - 850us/step - accuracy: 0.9958 - loss: 0.0148\n",
      "Epoch 28/40\n",
      "171/171 - 0s - 990us/step - accuracy: 0.9960 - loss: 0.0136\n",
      "Epoch 29/40\n",
      "171/171 - 0s - 915us/step - accuracy: 0.9962 - loss: 0.0127\n",
      "Epoch 30/40\n",
      "171/171 - 0s - 854us/step - accuracy: 0.9973 - loss: 0.0110\n",
      "Epoch 31/40\n",
      "171/171 - 0s - 833us/step - accuracy: 0.9973 - loss: 0.0096\n",
      "Epoch 32/40\n",
      "171/171 - 0s - 826us/step - accuracy: 0.9984 - loss: 0.0094\n",
      "Epoch 33/40\n",
      "171/171 - 0s - 808us/step - accuracy: 0.9973 - loss: 0.0086\n",
      "Epoch 34/40\n",
      "171/171 - 0s - 848us/step - accuracy: 0.9980 - loss: 0.0085\n",
      "Epoch 35/40\n",
      "171/171 - 0s - 829us/step - accuracy: 0.9993 - loss: 0.0063\n",
      "Epoch 36/40\n",
      "171/171 - 0s - 832us/step - accuracy: 0.9984 - loss: 0.0068\n",
      "Epoch 37/40\n",
      "171/171 - 0s - 826us/step - accuracy: 0.9985 - loss: 0.0082\n",
      "Epoch 38/40\n",
      "171/171 - 0s - 818us/step - accuracy: 0.9987 - loss: 0.0056\n",
      "Epoch 39/40\n",
      "171/171 - 0s - 805us/step - accuracy: 0.9995 - loss: 0.0056\n",
      "Epoch 40/40\n",
      "171/171 - 0s - 809us/step - accuracy: 0.9998 - loss: 0.0035\n"
     ]
    },
    {
     "data": {
      "text/plain": [
       "<keras.src.callbacks.history.History at 0x1756972af10>"
      ]
     },
     "execution_count": 14,
     "metadata": {},
     "output_type": "execute_result"
    }
   ],
   "source": [
    "model.fit(X_train, y_train, epochs=40, batch_size=32, verbose=2)"
   ]
  },
  {
   "cell_type": "code",
   "execution_count": 15,
   "id": "d876637b",
   "metadata": {},
   "outputs": [
    {
     "name": "stdout",
     "output_type": "stream",
     "text": [
      "\u001b[1m22/22\u001b[0m \u001b[32m━━━━━━━━━━━━━━━━━━━━\u001b[0m\u001b[37m\u001b[0m \u001b[1m0s\u001b[0m 2ms/step \n"
     ]
    }
   ],
   "source": [
    "#Validation dataset\n",
    "y_val_pred = (model.predict(X_val) > 0.5).astype(int)"
   ]
  },
  {
   "cell_type": "code",
   "execution_count": 16,
   "id": "a60a9d46",
   "metadata": {},
   "outputs": [
    {
     "name": "stdout",
     "output_type": "stream",
     "text": [
      "Accuracy 0.9604105571847508\n",
      "Precision 0.29411764705882354\n",
      "Recall 0.25\n",
      "F1 Score 0.27027027027027023\n",
      "Validation Classification Report:\n",
      "               precision    recall  f1-score   support\n",
      "\n",
      "           0       0.98      0.98      0.98       662\n",
      "           1       0.29      0.25      0.27        20\n",
      "\n",
      "    accuracy                           0.96       682\n",
      "   macro avg       0.64      0.62      0.62       682\n",
      "weighted avg       0.96      0.96      0.96       682\n",
      "\n"
     ]
    }
   ],
   "source": [
    "# Evaluate the model's performance on the validation set\n",
    "val_accuracy = accuracy_score(y_val, y_val_pred)\n",
    "precision = precision_score(y_val, y_val_pred)\n",
    "recall = recall_score(y_val, y_val_pred)\n",
    "f1_value = f1_score(y_val, y_val_pred)\n",
    "val_report = classification_report(y_val, y_val_pred)\n",
    "\n",
    "print(\"Accuracy\", val_accuracy)\n",
    "print(\"Precision\", precision)\n",
    "print(\"Recall\", recall)\n",
    "print(\"F1 Score\", f1_value)\n",
    "print(\"Validation Classification Report:\\n\", val_report)"
   ]
  },
  {
   "cell_type": "code",
   "execution_count": 17,
   "id": "49cdedc8",
   "metadata": {},
   "outputs": [
    {
     "name": "stdout",
     "output_type": "stream",
     "text": [
      "Confusion Matrix\n",
      "[[650  12]\n",
      " [ 15   5]]\n"
     ]
    }
   ],
   "source": [
    "conf_matrix = confusion_matrix(y_val, y_val_pred)\n",
    "print(\"Confusion Matrix\")\n",
    "print(conf_matrix)"
   ]
  },
  {
   "cell_type": "code",
   "execution_count": 18,
   "id": "f7e5e41a",
   "metadata": {},
   "outputs": [
    {
     "name": "stdout",
     "output_type": "stream",
     "text": [
      "\u001b[1m22/22\u001b[0m \u001b[32m━━━━━━━━━━━━━━━━━━━━\u001b[0m\u001b[37m\u001b[0m \u001b[1m0s\u001b[0m 661us/step\n"
     ]
    }
   ],
   "source": [
    "y_test_pred = (model.predict(X_test) > 0.5).astype(int)"
   ]
  },
  {
   "cell_type": "code",
   "execution_count": 19,
   "id": "785d895e",
   "metadata": {},
   "outputs": [
    {
     "name": "stdout",
     "output_type": "stream",
     "text": [
      "Accuracy 0.9560117302052786\n",
      "Precision 0.5384615384615384\n",
      "Recall 0.22580645161290322\n",
      "F1 Score 0.3181818181818182\n",
      "Test Classification Report:\n",
      "               precision    recall  f1-score   support\n",
      "\n",
      "           0       0.96      0.99      0.98       651\n",
      "           1       0.54      0.23      0.32        31\n",
      "\n",
      "    accuracy                           0.96       682\n",
      "   macro avg       0.75      0.61      0.65       682\n",
      "weighted avg       0.94      0.96      0.95       682\n",
      "\n"
     ]
    }
   ],
   "source": [
    "# Evaluate the model's performance on the test set\n",
    "test_accuracy = accuracy_score(y_test, y_test_pred)\n",
    "precision = precision_score(y_test, y_test_pred)\n",
    "recall = recall_score(y_test, y_test_pred)\n",
    "f1_value = f1_score(y_test, y_test_pred)\n",
    "test_report = classification_report(y_test, y_test_pred)\n",
    "\n",
    "print(\"Accuracy\", test_accuracy)\n",
    "print(\"Precision\", precision)\n",
    "print(\"Recall\", recall)\n",
    "print(\"F1 Score\", f1_value)\n",
    "print(\"Test Classification Report:\\n\", test_report)"
   ]
  },
  {
   "cell_type": "code",
   "execution_count": 20,
   "id": "f62dc686",
   "metadata": {},
   "outputs": [
    {
     "name": "stdout",
     "output_type": "stream",
     "text": [
      "Confusion Matrix\n",
      "[[645   6]\n",
      " [ 24   7]]\n"
     ]
    }
   ],
   "source": [
    "conf_matrix = confusion_matrix(y_test, y_test_pred)\n",
    "print(\"Confusion Matrix\")\n",
    "print(conf_matrix)"
   ]
  },
  {
   "cell_type": "code",
   "execution_count": 21,
   "id": "82812fa5",
   "metadata": {},
   "outputs": [
    {
     "data": {
      "image/png": "[encoded data removed]",
      "text/plain": [
       "<Figure size 576x576 with 1 Axes>"
      ]
     },
     "metadata": {
      "needs_background": "light"
     },
     "output_type": "display_data"
    }
   ],
   "source": [
    "# Compute ROC curve and ROC area for each class\n",
    "fpr_val, tpr_val, _ = roc_curve(y_val, y_val_pred)\n",
    "roc_auc_val = auc(fpr_val, tpr_val)\n",
    "\n",
    "fpr_test, tpr_test, _ = roc_curve(y_test, y_test_pred)\n",
    "roc_auc_test = auc(fpr_test, tpr_test)\n",
    "\n",
    "# Plot ROC curve\n",
    "plt.figure(figsize=(8, 8))\n",
    "plt.plot(fpr_val, tpr_val, color='darkorange', lw=2, label=f'Validation ROC curve (area = {roc_auc_val:.2f})')\n",
    "plt.plot(fpr_test, tpr_test, color='green', lw=2, label=f'Test ROC curve (area = {roc_auc_test:.2f})')\n",
    "plt.plot([0, 1], [0, 1], color='navy', lw=2, linestyle='--')\n",
    "plt.xlim([0.0, 1.0])\n",
    "plt.ylim([0.0, 1.05])\n",
    "plt.xlabel('False Positive Rate')\n",
    "plt.ylabel('True Positive Rate')\n",
    "plt.title('Receiver Operating Characteristic (ROC) Curve')\n",
    "plt.legend(loc=\"lower right\")\n",
    "plt.show()"
   ]
  }
 ],
 "metadata": {
  "kernelspec": {
   "display_name": "Python 3 (ipykernel)",
   "language": "python",
   "name": "python3"
  },
  "language_info": {
   "codemirror_mode": {
    "name": "ipython",
    "version": 3
   },
   "file_extension": ".py",
   "mimetype": "text/x-python",
   "name": "python",
   "nbconvert_exporter": "python",
   "pygments_lexer": "ipython3",
   "version": "3.9.12"
  }
 },
 "nbformat": 4,
 "nbformat_minor": 5
}
