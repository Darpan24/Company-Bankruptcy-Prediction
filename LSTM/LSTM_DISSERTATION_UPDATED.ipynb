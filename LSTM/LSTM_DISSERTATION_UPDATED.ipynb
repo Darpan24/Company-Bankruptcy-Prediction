{
 "cells": [
  {
   "cell_type": "code",
   "execution_count": 1,
   "id": "c46208af",
   "metadata": {},
   "outputs": [
    {
     "name": "stderr",
     "output_type": "stream",
     "text": [
      "C:\\Users\\agarw\\anaconda3\\lib\\site-packages\\scipy\\__init__.py:146: UserWarning: A NumPy version >=1.16.5 and <1.23.0 is required for this version of SciPy (detected version 1.26.2\n",
      "  warnings.warn(f\"A NumPy version >={np_minversion} and <{np_maxversion}\"\n"
     ]
    }
   ],
   "source": [
    "import pandas as pd\n",
    "import numpy as np\n",
    "import seaborn as sns\n",
    "import matplotlib.pyplot as plt\n",
    "\n",
    "import warnings\n",
    "warnings.filterwarnings(action=\"ignore\")\n",
    "\n",
    "from sklearn.model_selection import train_test_split\n",
    "from sklearn.metrics import accuracy_score, classification_report\n",
    "from sklearn.ensemble import AdaBoostClassifier\n",
    "from sklearn.neural_network import BernoulliRBM\n",
    "from sklearn.preprocessing import StandardScaler\n",
    "from imblearn.over_sampling import SMOTE\n",
    "import tensorflow as tf\n",
    "from tensorflow.keras.models import Sequential\n",
    "from tensorflow.keras.layers import Dense\n",
    "from tensorflow.keras.layers import LSTM\n",
    "from sklearn.metrics import roc_curve, auc\n",
    "\n",
    "\n",
    "from sklearn import metrics\n",
    "from sklearn.metrics import confusion_matrix\n",
    "from sklearn.datasets import make_classification\n",
    "from sklearn.metrics import accuracy_score, precision_score, recall_score, f1_score"
   ]
  },
  {
   "cell_type": "code",
   "execution_count": 2,
   "id": "554c15f4",
   "metadata": {},
   "outputs": [],
   "source": [
    "#importing data from the dataset\n",
    "df = pd.read_csv(r\"C:\\Users\\agarw\\OneDrive\\Desktop\\Dissertation\\data.csv\")"
   ]
  },
  {
   "cell_type": "code",
   "execution_count": 3,
   "id": "6977813a",
   "metadata": {},
   "outputs": [
    {
     "data": {
      "text/plain": [
       "Bankrupt?\n",
       "0    6599\n",
       "1     220\n",
       "Name: count, dtype: int64"
      ]
     },
     "execution_count": 3,
     "metadata": {},
     "output_type": "execute_result"
    }
   ],
   "source": [
    "#checking for bankrupt companies 0 is non-bankrupt and 1 is bankrupt\n",
    "bankrupt_data = df['Bankrupt?'].value_counts()\n",
    "bankrupt_data"
   ]
  },
  {
   "cell_type": "code",
   "execution_count": 4,
   "id": "a4c59409",
   "metadata": {},
   "outputs": [
    {
     "data": {
      "image/png": "[encoded data removed]",
      "text/plain": [
       "<Figure size 720x360 with 1 Axes>"
      ]
     },
     "metadata": {
      "needs_background": "light"
     },
     "output_type": "display_data"
    }
   ],
   "source": [
    "#Distribution representation\n",
    "plt.figure(figsize = (10,5))\n",
    "colors = [\"#3498db\", \"#e74c3c\"]\n",
    "ax = sns.countplot(x=df['Bankrupt?'], data=df,palette=colors)\n",
    "for p in ax.patches:\n",
    "    ax.annotate(f'{p.get_height()}', (p.get_x() + p.get_width() / 2., p.get_height()),\n",
    "                ha='center', va='center', xytext=(0, 10), textcoords='offset points')\n",
    "# Add labels and title\n",
    "plt.xlabel('Bankrupt')\n",
    "plt.ylabel('Count')\n",
    "plt.title('Distribution of Bankrupt')\n",
    "\n",
    "# Show the plot\n",
    "plt.show()"
   ]
  },
  {
   "cell_type": "code",
   "execution_count": 5,
   "id": "896b8a95",
   "metadata": {},
   "outputs": [],
   "source": [
    "# seperate the Bankrupt label from the dataset \n",
    "y = df['Bankrupt?']\n",
    "X = df.drop(['Bankrupt?'], axis = 1)"
   ]
  },
  {
   "cell_type": "code",
   "execution_count": 6,
   "id": "a4c45e76",
   "metadata": {},
   "outputs": [],
   "source": [
    "# divinding our dataset into training dataset\n",
    "X_train, X_temp, y_train, y_temp = train_test_split(X, y, test_size=0.3, random_state=42)"
   ]
  },
  {
   "cell_type": "code",
   "execution_count": 7,
   "id": "7710d669",
   "metadata": {},
   "outputs": [
    {
     "data": {
      "image/png": "[encoded data removed]",
      "text/plain": [
       "<Figure size 720x360 with 1 Axes>"
      ]
     },
     "metadata": {
      "needs_background": "light"
     },
     "output_type": "display_data"
    }
   ],
   "source": [
    "plt.figure(figsize = (10,5))\n",
    "colors = [\"#3498db\", \"#e74c3c\"]\n",
    "ax = sns.countplot(x=y_train, data=df,palette=colors)\n",
    "for p in ax.patches:\n",
    "    ax.annotate(f'{p.get_height()}', (p.get_x() + p.get_width() / 2., p.get_height()),\n",
    "                ha='center', va='center', xytext=(0, 10), textcoords='offset points')\n",
    "# Add labels and title\n",
    "plt.xlabel('Bankrupt')\n",
    "plt.ylabel('Count')\n",
    "plt.title('Distribution of Bankrupt')\n",
    "\n",
    "# Show the plot\n",
    "plt.show()"
   ]
  },
  {
   "cell_type": "code",
   "execution_count": 8,
   "id": "b459d418",
   "metadata": {},
   "outputs": [],
   "source": [
    "# divinding our dataset into testing and validation \n",
    "X_val, X_test, y_val, y_test = train_test_split(X_temp, y_temp, test_size=0.5, random_state=42)"
   ]
  },
  {
   "cell_type": "code",
   "execution_count": 9,
   "id": "cac443b4",
   "metadata": {},
   "outputs": [],
   "source": [
    "# Standardize the data\n",
    "scaler = StandardScaler()\n",
    "X_train = scaler.fit_transform(X_train)\n",
    "X_val = scaler.transform(X_val)\n",
    "X_test = scaler.transform(X_test)"
   ]
  },
  {
   "cell_type": "code",
   "execution_count": 10,
   "id": "3b655447",
   "metadata": {},
   "outputs": [],
   "source": [
    "# Reshape data for LSTM\n",
    "train_time_steps = 3  # Since there are no timestamps\n",
    "features = X_train.shape[1]"
   ]
  },
  {
   "cell_type": "code",
   "execution_count": 11,
   "id": "73281ef5",
   "metadata": {},
   "outputs": [
    {
     "data": {
      "text/plain": [
       "(4773, 95)"
      ]
     },
     "execution_count": 11,
     "metadata": {},
     "output_type": "execute_result"
    }
   ],
   "source": [
    "X_train.shape"
   ]
  },
  {
   "cell_type": "code",
   "execution_count": 12,
   "id": "e00f46d3",
   "metadata": {},
   "outputs": [
    {
     "data": {
      "text/plain": [
       "(4773,)"
      ]
     },
     "execution_count": 12,
     "metadata": {},
     "output_type": "execute_result"
    }
   ],
   "source": [
    "y_train.shape"
   ]
  },
  {
   "cell_type": "code",
   "execution_count": 13,
   "id": "b817512f",
   "metadata": {},
   "outputs": [
    {
     "data": {
      "text/plain": [
       "(1023, 95)"
      ]
     },
     "execution_count": 13,
     "metadata": {},
     "output_type": "execute_result"
    }
   ],
   "source": [
    "X_val.shape"
   ]
  },
  {
   "cell_type": "code",
   "execution_count": 14,
   "id": "fd4be420",
   "metadata": {},
   "outputs": [
    {
     "data": {
      "text/plain": [
       "(1023, 95)"
      ]
     },
     "execution_count": 14,
     "metadata": {},
     "output_type": "execute_result"
    }
   ],
   "source": [
    "X_test.shape"
   ]
  },
  {
   "cell_type": "code",
   "execution_count": 15,
   "id": "13a00ef0",
   "metadata": {},
   "outputs": [
    {
     "data": {
      "text/plain": [
       "95"
      ]
     },
     "execution_count": 15,
     "metadata": {},
     "output_type": "execute_result"
    }
   ],
   "source": [
    "features"
   ]
  },
  {
   "cell_type": "code",
   "execution_count": 16,
   "id": "89872eda",
   "metadata": {},
   "outputs": [],
   "source": [
    "X_train_reshaped = X_train.reshape(-1, train_time_steps, features)\n",
    "X_val_reshaped = X_val.reshape(-1, train_time_steps, features)\n",
    "X_test_reshaped = X_test.reshape(-1, train_time_steps, features)"
   ]
  },
  {
   "cell_type": "code",
   "execution_count": 17,
   "id": "8d338ad7",
   "metadata": {},
   "outputs": [],
   "source": [
    "y_train_reshaped = np.array(y_train).reshape(-1, train_time_steps)\n",
    "y_val_reshaped = np.array(y_val).reshape(-1, train_time_steps)\n",
    "y_test_reshaped = np.array(y_test).reshape(-1, train_time_steps)"
   ]
  },
  {
   "cell_type": "code",
   "execution_count": 18,
   "id": "583fd713",
   "metadata": {},
   "outputs": [
    {
     "data": {
      "text/plain": [
       "(1591, 3, 95)"
      ]
     },
     "execution_count": 18,
     "metadata": {},
     "output_type": "execute_result"
    }
   ],
   "source": [
    "X_train_reshaped.shape"
   ]
  },
  {
   "cell_type": "code",
   "execution_count": 19,
   "id": "37ee2d5f",
   "metadata": {},
   "outputs": [
    {
     "data": {
      "text/plain": [
       "(1591, 3)"
      ]
     },
     "execution_count": 19,
     "metadata": {},
     "output_type": "execute_result"
    }
   ],
   "source": [
    "y_train_reshaped.shape"
   ]
  },
  {
   "cell_type": "code",
   "execution_count": 20,
   "id": "1c8f19b0",
   "metadata": {},
   "outputs": [
    {
     "data": {
      "text/plain": [
       "(341, 3, 95)"
      ]
     },
     "execution_count": 20,
     "metadata": {},
     "output_type": "execute_result"
    }
   ],
   "source": [
    "X_val_reshaped.shape"
   ]
  },
  {
   "cell_type": "code",
   "execution_count": 21,
   "id": "93c04592",
   "metadata": {},
   "outputs": [
    {
     "data": {
      "text/plain": [
       "(341, 3, 95)"
      ]
     },
     "execution_count": 21,
     "metadata": {},
     "output_type": "execute_result"
    }
   ],
   "source": [
    "X_test_reshaped.shape"
   ]
  },
  {
   "cell_type": "code",
   "execution_count": 22,
   "id": "3508d01a",
   "metadata": {},
   "outputs": [],
   "source": [
    "# Build LSTM model\n",
    "model = Sequential()\n",
    "model.add(LSTM(units=50, activation='relu', input_shape=(train_time_steps, features)))\n",
    "model.add(Dense(units=3, activation='sigmoid'))"
   ]
  },
  {
   "cell_type": "code",
   "execution_count": 23,
   "id": "7b749c14",
   "metadata": {},
   "outputs": [],
   "source": [
    "model.compile(optimizer='adam', loss='binary_crossentropy', metrics=['accuracy'])"
   ]
  },
  {
   "cell_type": "code",
   "execution_count": 24,
   "id": "0fa1c918",
   "metadata": {},
   "outputs": [
    {
     "name": "stdout",
     "output_type": "stream",
     "text": [
      "Epoch 1/50\n",
      "50/50 - 1s - 25ms/step - accuracy: 0.5707 - loss: 0.4976\n",
      "Epoch 2/50\n",
      "50/50 - 0s - 2ms/step - accuracy: 0.5173 - loss: 0.1783\n",
      "Epoch 3/50\n",
      "50/50 - 0s - 2ms/step - accuracy: 0.3790 - loss: 0.1243\n",
      "Epoch 4/50\n",
      "50/50 - 0s - 2ms/step - accuracy: 0.4067 - loss: 0.1009\n",
      "Epoch 5/50\n",
      "50/50 - 0s - 2ms/step - accuracy: 0.4029 - loss: 0.0877\n",
      "Epoch 6/50\n",
      "50/50 - 0s - 2ms/step - accuracy: 0.4211 - loss: 0.0772\n",
      "Epoch 7/50\n",
      "50/50 - 0s - 2ms/step - accuracy: 0.3953 - loss: 0.0687\n",
      "Epoch 8/50\n",
      "50/50 - 0s - 2ms/step - accuracy: 0.4406 - loss: 0.0595\n",
      "Epoch 9/50\n",
      "50/50 - 0s - 2ms/step - accuracy: 0.4444 - loss: 0.0524\n",
      "Epoch 10/50\n",
      "50/50 - 0s - 2ms/step - accuracy: 0.4463 - loss: 0.0481\n",
      "Epoch 11/50\n",
      "50/50 - 0s - 2ms/step - accuracy: 0.4494 - loss: 0.0412\n",
      "Epoch 12/50\n",
      "50/50 - 0s - 2ms/step - accuracy: 0.4199 - loss: 0.0358\n",
      "Epoch 13/50\n",
      "50/50 - 0s - 2ms/step - accuracy: 0.4450 - loss: 0.0307\n",
      "Epoch 14/50\n",
      "50/50 - 0s - 2ms/step - accuracy: 0.4412 - loss: 0.0264\n",
      "Epoch 15/50\n",
      "50/50 - 0s - 2ms/step - accuracy: 0.4406 - loss: 0.0223\n",
      "Epoch 16/50\n",
      "50/50 - 0s - 2ms/step - accuracy: 0.4249 - loss: 0.0193\n",
      "Epoch 17/50\n",
      "50/50 - 0s - 2ms/step - accuracy: 0.4400 - loss: 0.0162\n",
      "Epoch 18/50\n",
      "50/50 - 0s - 2ms/step - accuracy: 0.4305 - loss: 0.0129\n",
      "Epoch 19/50\n",
      "50/50 - 0s - 2ms/step - accuracy: 0.4199 - loss: 0.0109\n",
      "Epoch 20/50\n",
      "50/50 - 0s - 2ms/step - accuracy: 0.4362 - loss: 0.0091\n",
      "Epoch 21/50\n",
      "50/50 - 0s - 2ms/step - accuracy: 0.4280 - loss: 0.0073\n",
      "Epoch 22/50\n",
      "50/50 - 0s - 2ms/step - accuracy: 0.4287 - loss: 0.0062\n",
      "Epoch 23/50\n",
      "50/50 - 0s - 2ms/step - accuracy: 0.4419 - loss: 0.0184\n",
      "Epoch 24/50\n",
      "50/50 - 0s - 2ms/step - accuracy: 0.4406 - loss: 0.0063\n",
      "Epoch 25/50\n",
      "50/50 - 0s - 2ms/step - accuracy: 0.4469 - loss: 0.0042\n",
      "Epoch 26/50\n",
      "50/50 - 0s - 2ms/step - accuracy: 0.4626 - loss: 0.0034\n",
      "Epoch 27/50\n",
      "50/50 - 0s - 2ms/step - accuracy: 0.4519 - loss: 0.0028\n",
      "Epoch 28/50\n",
      "50/50 - 0s - 2ms/step - accuracy: 0.4557 - loss: 0.0023\n",
      "Epoch 29/50\n",
      "50/50 - 0s - 2ms/step - accuracy: 0.4513 - loss: 0.0020\n",
      "Epoch 30/50\n",
      "50/50 - 0s - 2ms/step - accuracy: 0.4551 - loss: 0.0016\n",
      "Epoch 31/50\n",
      "50/50 - 0s - 2ms/step - accuracy: 0.4525 - loss: 0.0013\n",
      "Epoch 32/50\n",
      "50/50 - 0s - 2ms/step - accuracy: 0.4525 - loss: 0.0011\n",
      "Epoch 33/50\n",
      "50/50 - 0s - 2ms/step - accuracy: 0.4488 - loss: 9.7517e-04\n",
      "Epoch 34/50\n",
      "50/50 - 0s - 2ms/step - accuracy: 0.4657 - loss: 8.3531e-04\n",
      "Epoch 35/50\n",
      "50/50 - 0s - 2ms/step - accuracy: 0.4525 - loss: 7.3395e-04\n",
      "Epoch 36/50\n",
      "50/50 - 0s - 2ms/step - accuracy: 0.4532 - loss: 6.2940e-04\n",
      "Epoch 37/50\n",
      "50/50 - 0s - 2ms/step - accuracy: 0.4632 - loss: 5.6800e-04\n",
      "Epoch 38/50\n",
      "50/50 - 0s - 2ms/step - accuracy: 0.4532 - loss: 4.9083e-04\n",
      "Epoch 39/50\n",
      "50/50 - 0s - 2ms/step - accuracy: 0.4639 - loss: 4.4331e-04\n",
      "Epoch 40/50\n",
      "50/50 - 0s - 2ms/step - accuracy: 0.4601 - loss: 3.9708e-04\n",
      "Epoch 41/50\n",
      "50/50 - 0s - 2ms/step - accuracy: 0.4551 - loss: 3.6038e-04\n",
      "Epoch 42/50\n",
      "50/50 - 0s - 2ms/step - accuracy: 0.4601 - loss: 3.2339e-04\n",
      "Epoch 43/50\n",
      "50/50 - 0s - 2ms/step - accuracy: 0.4569 - loss: 2.9549e-04\n",
      "Epoch 44/50\n",
      "50/50 - 0s - 2ms/step - accuracy: 0.4607 - loss: 2.6799e-04\n",
      "Epoch 45/50\n",
      "50/50 - 0s - 2ms/step - accuracy: 0.4557 - loss: 2.4712e-04\n",
      "Epoch 46/50\n",
      "50/50 - 0s - 2ms/step - accuracy: 0.4595 - loss: 2.2617e-04\n",
      "Epoch 47/50\n",
      "50/50 - 0s - 2ms/step - accuracy: 0.4569 - loss: 2.1273e-04\n",
      "Epoch 48/50\n",
      "50/50 - 0s - 2ms/step - accuracy: 0.4588 - loss: 1.9309e-04\n",
      "Epoch 49/50\n",
      "50/50 - 0s - 2ms/step - accuracy: 0.4601 - loss: 1.7542e-04\n",
      "Epoch 50/50\n",
      "50/50 - 0s - 2ms/step - accuracy: 0.4601 - loss: 1.6475e-04\n"
     ]
    },
    {
     "data": {
      "text/plain": [
       "<keras.src.callbacks.history.History at 0x1ac8f426a00>"
      ]
     },
     "execution_count": 24,
     "metadata": {},
     "output_type": "execute_result"
    }
   ],
   "source": [
    "# Train the model using the resampled training data and validate on the validation set\n",
    "model.fit(X_train_reshaped, y_train_reshaped, epochs=50, batch_size=32,verbose=2)"
   ]
  },
  {
   "cell_type": "code",
   "execution_count": 25,
   "id": "cd0fb702",
   "metadata": {},
   "outputs": [
    {
     "name": "stdout",
     "output_type": "stream",
     "text": [
      "\u001b[1m11/11\u001b[0m \u001b[32m━━━━━━━━━━━━━━━━━━━━\u001b[0m\u001b[37m\u001b[0m \u001b[1m0s\u001b[0m 12ms/step\n"
     ]
    }
   ],
   "source": [
    "y_pred_val = model.predict(X_val_reshaped)\n",
    "y_pred_val_binary = (y_pred_val > 0.5).astype(int)"
   ]
  },
  {
   "cell_type": "code",
   "execution_count": 26,
   "id": "e95763e6",
   "metadata": {},
   "outputs": [
    {
     "name": "stdout",
     "output_type": "stream",
     "text": [
      "Accuracy 0.8856304985337243\n",
      "Precision 0.46507936507936504\n",
      "Recall 0.27142857142857146\n",
      "F1 Score 0.34190476190476193\n",
      "Validation Classification Report:\n",
      "               precision    recall  f1-score   support\n",
      "\n",
      "           0       0.30      0.20      0.24        15\n",
      "           1       0.67      0.40      0.50        10\n",
      "           2       0.43      0.21      0.29        14\n",
      "\n",
      "   micro avg       0.43      0.26      0.32        39\n",
      "   macro avg       0.47      0.27      0.34        39\n",
      "weighted avg       0.44      0.26      0.32        39\n",
      " samples avg       0.03      0.03      0.03        39\n",
      "\n"
     ]
    }
   ],
   "source": [
    "# Evaluate the model's performance on the Validation set\n",
    "val_accuracy = accuracy_score(y_val_reshaped, y_pred_val_binary)\n",
    "precision = precision_score(y_val_reshaped, y_pred_val_binary,average='macro')\n",
    "recall = recall_score(y_val_reshaped, y_pred_val_binary,average='macro')\n",
    "f1_value = f1_score(y_val_reshaped, y_pred_val_binary,average='macro')\n",
    "val_report = classification_report(y_val_reshaped, y_pred_val_binary)\n",
    "\n",
    "print(\"Accuracy\", val_accuracy)\n",
    "print(\"Precision\", precision)\n",
    "print(\"Recall\", recall)\n",
    "print(\"F1 Score\", f1_value)\n",
    "print(\"Validation Classification Report:\\n\", val_report)"
   ]
  },
  {
   "cell_type": "code",
   "execution_count": 27,
   "id": "d6f20fb1",
   "metadata": {},
   "outputs": [
    {
     "name": "stdout",
     "output_type": "stream",
     "text": [
      "Confusion Matrix\n",
      "[[971  13]\n",
      " [ 29  10]]\n"
     ]
    }
   ],
   "source": [
    "conf_matrix = confusion_matrix(y_val_reshaped.ravel(), y_pred_val_binary.ravel())\n",
    "print(\"Confusion Matrix\")\n",
    "print(conf_matrix)"
   ]
  },
  {
   "cell_type": "code",
   "execution_count": 28,
   "id": "c2922c2a",
   "metadata": {},
   "outputs": [
    {
     "name": "stdout",
     "output_type": "stream",
     "text": [
      "\u001b[1m11/11\u001b[0m \u001b[32m━━━━━━━━━━━━━━━━━━━━\u001b[0m\u001b[37m\u001b[0m \u001b[1m0s\u001b[0m 1ms/step \n"
     ]
    }
   ],
   "source": [
    "y_pred_test = model.predict(X_test_reshaped)\n",
    "y_pred_test_binary = (y_pred_test > 0.5).astype(int)"
   ]
  },
  {
   "cell_type": "code",
   "execution_count": 29,
   "id": "d0e97221",
   "metadata": {},
   "outputs": [
    {
     "name": "stdout",
     "output_type": "stream",
     "text": [
      "Accuracy 0.844574780058651\n",
      "Precision 0.16666666666666666\n",
      "Recall 0.1233974358974359\n",
      "F1 Score 0.1415830546265329\n",
      "Validation Classification Report:\n",
      "               precision    recall  f1-score   support\n",
      "\n",
      "           0       0.40      0.31      0.35        13\n",
      "           1       0.00      0.00      0.00        10\n",
      "           2       0.10      0.06      0.08        16\n",
      "\n",
      "   micro avg       0.18      0.13      0.15        39\n",
      "   macro avg       0.17      0.12      0.14        39\n",
      "weighted avg       0.17      0.13      0.15        39\n",
      " samples avg       0.01      0.01      0.01        39\n",
      "\n"
     ]
    }
   ],
   "source": [
    "# Evaluate the model's performance on the Testing set\n",
    "val_accuracy = accuracy_score(y_test_reshaped, y_pred_test_binary)\n",
    "precision = precision_score(y_test_reshaped, y_pred_test_binary,average='macro')\n",
    "recall = recall_score(y_test_reshaped, y_pred_test_binary,average='macro')\n",
    "f1_value = f1_score(y_test_reshaped, y_pred_test_binary,average='macro')\n",
    "val_report = classification_report(y_test_reshaped, y_pred_test_binary)\n",
    "\n",
    "print(\"Accuracy\", val_accuracy)\n",
    "print(\"Precision\", precision)\n",
    "print(\"Recall\", recall)\n",
    "print(\"F1 Score\", f1_value)\n",
    "print(\"Validation Classification Report:\\n\", val_report)"
   ]
  },
  {
   "cell_type": "code",
   "execution_count": 30,
   "id": "3d0b081e",
   "metadata": {},
   "outputs": [
    {
     "name": "stdout",
     "output_type": "stream",
     "text": [
      "Confusion Matrix\n",
      "[[961  23]\n",
      " [ 34   5]]\n"
     ]
    }
   ],
   "source": [
    "conf_matrix = confusion_matrix(y_test_reshaped.ravel(), y_pred_test_binary.ravel())\n",
    "print(\"Confusion Matrix\")\n",
    "print(conf_matrix)"
   ]
  },
  {
   "cell_type": "code",
   "execution_count": 36,
   "id": "1e9df60f",
   "metadata": {},
   "outputs": [
    {
     "data": {
      "image/png": "[encoded data removed]",
      "text/plain": [
       "<Figure size 576x576 with 1 Axes>"
      ]
     },
     "metadata": {
      "needs_background": "light"
     },
     "output_type": "display_data"
    }
   ],
   "source": [
    "# Compute ROC curve and ROC area for each class\n",
    "fpr_val, tpr_val, _ = roc_curve(y_val_reshaped.ravel(), y_pred_val_binary.ravel())\n",
    "roc_auc_val = auc(fpr_val, tpr_val)\n",
    "\n",
    "fpr_test, tpr_test, _ = roc_curve(y_test_reshaped.ravel(), y_pred_test_binary.ravel())\n",
    "roc_auc_test = auc(fpr_test, tpr_test)\n",
    "\n",
    "# Plot ROC curve\n",
    "plt.figure(figsize=(8, 8))\n",
    "plt.plot(fpr_val, tpr_val, color='darkorange', lw=2, label=f'Validation ROC curve (area = {roc_auc_val:.2f})')\n",
    "plt.plot(fpr_test, tpr_test, color='green', lw=2, label=f'Test ROC curve (area = {roc_auc_test:.2f})')\n",
    "plt.plot([0, 1], [0, 1], color='navy', lw=2, linestyle='--')\n",
    "plt.xlim([0.0, 1.0])\n",
    "plt.ylim([0.0, 1.05])\n",
    "plt.xlabel('False Positive Rate')\n",
    "plt.ylabel('True Positive Rate')\n",
    "plt.title('Receiver Operating Characteristic (ROC) Curve')\n",
    "plt.legend(loc=\"lower right\")\n",
    "plt.show()"
   ]
  },
  {
   "cell_type": "code",
   "execution_count": null,
   "id": "3a2e21de",
   "metadata": {},
   "outputs": [],
   "source": []
  }
 ],
 "metadata": {
  "kernelspec": {
   "display_name": "Python 3 (ipykernel)",
   "language": "python",
   "name": "python3"
  },
  "language_info": {
   "codemirror_mode": {
    "name": "ipython",
    "version": 3
   },
   "file_extension": ".py",
   "mimetype": "text/x-python",
   "name": "python",
   "nbconvert_exporter": "python",
   "pygments_lexer": "ipython3",
   "version": "3.9.12"
  }
 },
 "nbformat": 4,
 "nbformat_minor": 5
}
