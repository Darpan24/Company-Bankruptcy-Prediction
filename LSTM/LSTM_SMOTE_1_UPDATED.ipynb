{
 "cells": [
  {
   "cell_type": "code",
   "execution_count": 1,
   "id": "0416dc98",
   "metadata": {},
   "outputs": [
    {
     "name": "stderr",
     "output_type": "stream",
     "text": [
      "C:\\Users\\agarw\\anaconda3\\lib\\site-packages\\scipy\\__init__.py:146: UserWarning: A NumPy version >=1.16.5 and <1.23.0 is required for this version of SciPy (detected version 1.26.2\n",
      "  warnings.warn(f\"A NumPy version >={np_minversion} and <{np_maxversion}\"\n"
     ]
    }
   ],
   "source": [
    "import pandas as pd\n",
    "import numpy as np\n",
    "import seaborn as sns\n",
    "import matplotlib.pyplot as plt\n",
    "\n",
    "import warnings\n",
    "warnings.filterwarnings(action=\"ignore\")\n",
    "\n",
    "from sklearn.model_selection import train_test_split\n",
    "from sklearn.metrics import accuracy_score, classification_report\n",
    "from sklearn.ensemble import AdaBoostClassifier\n",
    "from sklearn.neural_network import BernoulliRBM\n",
    "from sklearn.preprocessing import StandardScaler\n",
    "from imblearn.over_sampling import SMOTE\n",
    "import tensorflow as tf\n",
    "from tensorflow.keras.models import Sequential\n",
    "from tensorflow.keras.layers import Dense\n",
    "from tensorflow.keras.layers import LSTM\n",
    "from sklearn.metrics import roc_curve, auc\n",
    "\n",
    "from sklearn import metrics\n",
    "from sklearn.metrics import confusion_matrix\n",
    "from sklearn.datasets import make_classification\n",
    "from sklearn.metrics import accuracy_score, precision_score, recall_score, f1_score"
   ]
  },
  {
   "cell_type": "code",
   "execution_count": 2,
   "id": "22d6e2fc",
   "metadata": {},
   "outputs": [],
   "source": [
    "#importing data from the dataset\n",
    "df = pd.read_csv(r\"C:\\Users\\agarw\\OneDrive\\Desktop\\Dissertation\\data.csv\")"
   ]
  },
  {
   "cell_type": "code",
   "execution_count": 3,
   "id": "73393529",
   "metadata": {},
   "outputs": [
    {
     "data": {
      "text/plain": [
       "Bankrupt?\n",
       "0    6599\n",
       "1     220\n",
       "Name: count, dtype: int64"
      ]
     },
     "execution_count": 3,
     "metadata": {},
     "output_type": "execute_result"
    }
   ],
   "source": [
    "#checking for bankrupt companies 0 is non-bankrupt and 1 is bankrupt\n",
    "bankrupt_data = df['Bankrupt?'].value_counts()\n",
    "bankrupt_data"
   ]
  },
  {
   "cell_type": "code",
   "execution_count": 4,
   "id": "72fbd326",
   "metadata": {},
   "outputs": [
    {
     "data": {
      "image/png": "[encoded data removed]",
      "text/plain": [
       "<Figure size 720x360 with 1 Axes>"
      ]
     },
     "metadata": {
      "needs_background": "light"
     },
     "output_type": "display_data"
    }
   ],
   "source": [
    "plt.figure(figsize = (10,5))\n",
    "colors = [\"#3498db\", \"#e74c3c\"]\n",
    "ax = sns.countplot(x=df['Bankrupt?'], data=df,palette=colors)\n",
    "for p in ax.patches:\n",
    "    ax.annotate(f'{p.get_height()}', (p.get_x() + p.get_width() / 2., p.get_height()),\n",
    "                ha='center', va='center', xytext=(0, 10), textcoords='offset points')\n",
    "# Add labels and title\n",
    "plt.xlabel('Bankrupt')\n",
    "plt.ylabel('Count')\n",
    "plt.title('Distribution of Bankrupt')\n",
    "\n",
    "# Show the plot\n",
    "plt.show()"
   ]
  },
  {
   "cell_type": "code",
   "execution_count": 5,
   "id": "9a6ef0c4",
   "metadata": {},
   "outputs": [],
   "source": [
    "# seperate the Bankrupt label from the dataset \n",
    "y = df['Bankrupt?']\n",
    "X = df.drop(['Bankrupt?'], axis = 1)"
   ]
  },
  {
   "cell_type": "code",
   "execution_count": 6,
   "id": "b6d3945b",
   "metadata": {},
   "outputs": [],
   "source": [
    "# divinding our dataset into training dataset\n",
    "X_train, X_temp, y_train, y_temp = train_test_split(X, y, test_size=0.2, random_state=42)"
   ]
  },
  {
   "cell_type": "code",
   "execution_count": 7,
   "id": "79dc6560",
   "metadata": {},
   "outputs": [
    {
     "data": {
      "image/png": "[encoded data removed]",
      "text/plain": [
       "<Figure size 720x360 with 1 Axes>"
      ]
     },
     "metadata": {
      "needs_background": "light"
     },
     "output_type": "display_data"
    }
   ],
   "source": [
    "plt.figure(figsize = (10,5))\n",
    "colors = [\"#3498db\", \"#e74c3c\"]\n",
    "ax = sns.countplot(x=y_train, data=df,palette=colors)\n",
    "for p in ax.patches:\n",
    "    ax.annotate(f'{p.get_height()}', (p.get_x() + p.get_width() / 2., p.get_height()),\n",
    "                ha='center', va='center', xytext=(0, 10), textcoords='offset points')\n",
    "# Add labels and title\n",
    "plt.xlabel('Bankrupt')\n",
    "plt.ylabel('Count')\n",
    "plt.title('Distribution of Bankrupt')\n",
    "\n",
    "# Show the plot\n",
    "plt.show()"
   ]
  },
  {
   "cell_type": "code",
   "execution_count": 8,
   "id": "5b2cc7f7",
   "metadata": {},
   "outputs": [],
   "source": [
    "# divinding our dataset into testing and validation \n",
    "X_val, X_test, y_val, y_test = train_test_split(X_temp, y_temp, test_size=0.5, random_state=42)"
   ]
  },
  {
   "cell_type": "code",
   "execution_count": 9,
   "id": "01d13bdc",
   "metadata": {},
   "outputs": [],
   "source": [
    "smote = SMOTE(sampling_strategy=1, random_state=42)\n",
    "X_train_resampled, y_train_resampled = smote.fit_resample(X_train, y_train)"
   ]
  },
  {
   "cell_type": "code",
   "execution_count": 10,
   "id": "03f5a164",
   "metadata": {},
   "outputs": [
    {
     "data": {
      "image/png": "[encoded data removed]",
      "text/plain": [
       "<Figure size 720x360 with 1 Axes>"
      ]
     },
     "metadata": {
      "needs_background": "light"
     },
     "output_type": "display_data"
    }
   ],
   "source": [
    "plt.figure(figsize = (10,5))\n",
    "colors = [\"#3498db\", \"#e74c3c\"]\n",
    "ax = sns.countplot(x=y_train_resampled, data=df,palette=colors)\n",
    "for p in ax.patches:\n",
    "    ax.annotate(f'{p.get_height()}', (p.get_x() + p.get_width() / 2., p.get_height()),\n",
    "                ha='center', va='center', xytext=(0, 10), textcoords='offset points')\n",
    "# Add labels and title\n",
    "plt.xlabel('Bankrupt')\n",
    "plt.ylabel('Count')\n",
    "plt.title('Distribution of Bankrupt')\n",
    "\n",
    "# Show the plot\n",
    "plt.show()"
   ]
  },
  {
   "cell_type": "code",
   "execution_count": 11,
   "id": "4680f100",
   "metadata": {},
   "outputs": [],
   "source": [
    "# Standardize the data\n",
    "scaler = StandardScaler()\n",
    "X_train_resampled = scaler.fit_transform(X_train_resampled)\n",
    "X_val = scaler.transform(X_val)\n",
    "X_test = scaler.transform(X_test)"
   ]
  },
  {
   "cell_type": "code",
   "execution_count": 12,
   "id": "3b655447",
   "metadata": {},
   "outputs": [],
   "source": [
    "# Reshape data for LSTM\n",
    "time_steps = 1  # Since there are no timestamps\n",
    "features = X_train_resampled.shape[1]"
   ]
  },
  {
   "cell_type": "code",
   "execution_count": 13,
   "id": "73281ef5",
   "metadata": {},
   "outputs": [
    {
     "data": {
      "text/plain": [
       "(10572, 95)"
      ]
     },
     "execution_count": 13,
     "metadata": {},
     "output_type": "execute_result"
    }
   ],
   "source": [
    "X_train_resampled.shape"
   ]
  },
  {
   "cell_type": "code",
   "execution_count": 14,
   "id": "e00f46d3",
   "metadata": {},
   "outputs": [
    {
     "data": {
      "text/plain": [
       "(5455,)"
      ]
     },
     "execution_count": 14,
     "metadata": {},
     "output_type": "execute_result"
    }
   ],
   "source": [
    "y_train.shape"
   ]
  },
  {
   "cell_type": "code",
   "execution_count": 15,
   "id": "b817512f",
   "metadata": {},
   "outputs": [
    {
     "data": {
      "text/plain": [
       "(682, 95)"
      ]
     },
     "execution_count": 15,
     "metadata": {},
     "output_type": "execute_result"
    }
   ],
   "source": [
    "X_val.shape"
   ]
  },
  {
   "cell_type": "code",
   "execution_count": 16,
   "id": "fd4be420",
   "metadata": {},
   "outputs": [
    {
     "data": {
      "text/plain": [
       "(682, 95)"
      ]
     },
     "execution_count": 16,
     "metadata": {},
     "output_type": "execute_result"
    }
   ],
   "source": [
    "X_test.shape"
   ]
  },
  {
   "cell_type": "code",
   "execution_count": 17,
   "id": "13a00ef0",
   "metadata": {},
   "outputs": [
    {
     "data": {
      "text/plain": [
       "95"
      ]
     },
     "execution_count": 17,
     "metadata": {},
     "output_type": "execute_result"
    }
   ],
   "source": [
    "features"
   ]
  },
  {
   "cell_type": "code",
   "execution_count": 18,
   "id": "b387f013",
   "metadata": {},
   "outputs": [],
   "source": [
    "X_train_reshaped = X_train_resampled.reshape(-1, time_steps, features)\n",
    "X_val_reshaped = X_val.reshape(-1, time_steps, features)\n",
    "X_test_reshaped = X_test.reshape(-1, time_steps, features)"
   ]
  },
  {
   "cell_type": "code",
   "execution_count": 19,
   "id": "9bf88159",
   "metadata": {},
   "outputs": [],
   "source": [
    "y_train_reshaped = np.array(y_train_resampled).reshape(-1, time_steps)\n",
    "y_val_reshaped = np.array(y_val).reshape(-1, time_steps)\n",
    "y_test_reshaped = np.array(y_test).reshape(-1, time_steps)"
   ]
  },
  {
   "cell_type": "code",
   "execution_count": 20,
   "id": "583fd713",
   "metadata": {},
   "outputs": [
    {
     "data": {
      "text/plain": [
       "(10572, 1, 95)"
      ]
     },
     "execution_count": 20,
     "metadata": {},
     "output_type": "execute_result"
    }
   ],
   "source": [
    "X_train_reshaped.shape"
   ]
  },
  {
   "cell_type": "code",
   "execution_count": 21,
   "id": "37ee2d5f",
   "metadata": {},
   "outputs": [
    {
     "data": {
      "text/plain": [
       "(10572, 1)"
      ]
     },
     "execution_count": 21,
     "metadata": {},
     "output_type": "execute_result"
    }
   ],
   "source": [
    "y_train_reshaped.shape"
   ]
  },
  {
   "cell_type": "code",
   "execution_count": 22,
   "id": "1c8f19b0",
   "metadata": {},
   "outputs": [
    {
     "data": {
      "text/plain": [
       "(682, 1, 95)"
      ]
     },
     "execution_count": 22,
     "metadata": {},
     "output_type": "execute_result"
    }
   ],
   "source": [
    "X_val_reshaped.shape"
   ]
  },
  {
   "cell_type": "code",
   "execution_count": 23,
   "id": "93c04592",
   "metadata": {},
   "outputs": [
    {
     "data": {
      "text/plain": [
       "(682, 1, 95)"
      ]
     },
     "execution_count": 23,
     "metadata": {},
     "output_type": "execute_result"
    }
   ],
   "source": [
    "X_test_reshaped.shape"
   ]
  },
  {
   "cell_type": "code",
   "execution_count": 24,
   "id": "700f7afb",
   "metadata": {},
   "outputs": [
    {
     "data": {
      "text/plain": [
       "(10572, 1)"
      ]
     },
     "execution_count": 24,
     "metadata": {},
     "output_type": "execute_result"
    }
   ],
   "source": [
    "y_train_reshaped.shape"
   ]
  },
  {
   "cell_type": "code",
   "execution_count": 25,
   "id": "10448ac2",
   "metadata": {},
   "outputs": [
    {
     "data": {
      "text/plain": [
       "(682, 1)"
      ]
     },
     "execution_count": 25,
     "metadata": {},
     "output_type": "execute_result"
    }
   ],
   "source": [
    "y_val_reshaped.shape"
   ]
  },
  {
   "cell_type": "code",
   "execution_count": 26,
   "id": "094b72b4",
   "metadata": {},
   "outputs": [
    {
     "data": {
      "text/plain": [
       "(682, 1)"
      ]
     },
     "execution_count": 26,
     "metadata": {},
     "output_type": "execute_result"
    }
   ],
   "source": [
    "y_test_reshaped.shape"
   ]
  },
  {
   "cell_type": "code",
   "execution_count": 27,
   "id": "3508d01a",
   "metadata": {},
   "outputs": [],
   "source": [
    "# Build LSTM model\n",
    "model = Sequential()\n",
    "model.add(LSTM(units=50, activation='relu', input_shape=(time_steps, features)))\n",
    "model.add(Dense(units=1, activation='sigmoid'))"
   ]
  },
  {
   "cell_type": "code",
   "execution_count": 28,
   "id": "7b749c14",
   "metadata": {},
   "outputs": [],
   "source": [
    "model.compile(optimizer='adam', loss='binary_crossentropy', metrics=['accuracy'])"
   ]
  },
  {
   "cell_type": "code",
   "execution_count": 29,
   "id": "0fa1c918",
   "metadata": {},
   "outputs": [
    {
     "name": "stdout",
     "output_type": "stream",
     "text": [
      "Epoch 1/30\n",
      "331/331 - 2s - 5ms/step - accuracy: 0.8909 - loss: 0.3149\n",
      "Epoch 2/30\n",
      "331/331 - 0s - 1ms/step - accuracy: 0.9268 - loss: 0.2037\n",
      "Epoch 3/30\n",
      "331/331 - 0s - 1ms/step - accuracy: 0.9427 - loss: 0.1609\n",
      "Epoch 4/30\n",
      "331/331 - 0s - 1ms/step - accuracy: 0.9575 - loss: 0.1310\n",
      "Epoch 5/30\n",
      "331/331 - 0s - 1ms/step - accuracy: 0.9662 - loss: 0.1078\n",
      "Epoch 6/30\n",
      "331/331 - 0s - 1ms/step - accuracy: 0.9718 - loss: 0.0897\n",
      "Epoch 7/30\n",
      "331/331 - 0s - 1ms/step - accuracy: 0.9775 - loss: 0.0762\n",
      "Epoch 8/30\n",
      "331/331 - 0s - 1ms/step - accuracy: 0.9820 - loss: 0.0637\n",
      "Epoch 9/30\n",
      "331/331 - 0s - 1ms/step - accuracy: 0.9850 - loss: 0.0549\n",
      "Epoch 10/30\n",
      "331/331 - 0s - 1ms/step - accuracy: 0.9873 - loss: 0.0472\n",
      "Epoch 11/30\n",
      "331/331 - 0s - 1ms/step - accuracy: 0.9897 - loss: 0.0406\n",
      "Epoch 12/30\n",
      "331/331 - 0s - 1ms/step - accuracy: 0.9915 - loss: 0.0348\n",
      "Epoch 13/30\n",
      "331/331 - 0s - 1ms/step - accuracy: 0.9917 - loss: 0.0301\n",
      "Epoch 14/30\n",
      "331/331 - 0s - 1ms/step - accuracy: 0.9933 - loss: 0.0255\n",
      "Epoch 15/30\n",
      "331/331 - 0s - 1ms/step - accuracy: 0.9946 - loss: 0.0220\n",
      "Epoch 16/30\n",
      "331/331 - 0s - 1ms/step - accuracy: 0.9948 - loss: 0.0190\n",
      "Epoch 17/30\n",
      "331/331 - 0s - 1ms/step - accuracy: 0.9963 - loss: 0.0164\n",
      "Epoch 18/30\n",
      "331/331 - 0s - 1ms/step - accuracy: 0.9967 - loss: 0.0143\n",
      "Epoch 19/30\n",
      "331/331 - 0s - 1ms/step - accuracy: 0.9973 - loss: 0.0120\n",
      "Epoch 20/30\n",
      "331/331 - 0s - 1ms/step - accuracy: 0.9978 - loss: 0.0103\n",
      "Epoch 21/30\n",
      "331/331 - 0s - 1ms/step - accuracy: 0.9982 - loss: 0.0087\n",
      "Epoch 22/30\n",
      "331/331 - 0s - 1ms/step - accuracy: 0.9985 - loss: 0.0074\n",
      "Epoch 23/30\n",
      "331/331 - 0s - 1ms/step - accuracy: 0.9990 - loss: 0.0063\n",
      "Epoch 24/30\n",
      "331/331 - 0s - 1ms/step - accuracy: 0.9995 - loss: 0.0051\n",
      "Epoch 25/30\n",
      "331/331 - 0s - 1ms/step - accuracy: 0.9992 - loss: 0.0070\n",
      "Epoch 26/30\n",
      "331/331 - 0s - 1ms/step - accuracy: 0.9992 - loss: 0.0044\n",
      "Epoch 27/30\n",
      "331/331 - 0s - 1ms/step - accuracy: 0.9997 - loss: 0.0033\n",
      "Epoch 28/30\n",
      "331/331 - 0s - 1ms/step - accuracy: 0.9997 - loss: 0.0027\n",
      "Epoch 29/30\n",
      "331/331 - 0s - 1ms/step - accuracy: 0.9998 - loss: 0.0024\n",
      "Epoch 30/30\n",
      "331/331 - 0s - 1ms/step - accuracy: 0.9999 - loss: 0.0020\n"
     ]
    },
    {
     "data": {
      "text/plain": [
       "<keras.src.callbacks.history.History at 0x2817524dd30>"
      ]
     },
     "execution_count": 29,
     "metadata": {},
     "output_type": "execute_result"
    }
   ],
   "source": [
    "# Train the model using the resampled training data and validate on the validation set\n",
    "model.fit(X_train_reshaped, y_train_reshaped, epochs=30, batch_size=32,verbose=2)"
   ]
  },
  {
   "cell_type": "code",
   "execution_count": 30,
   "id": "cd0fb702",
   "metadata": {},
   "outputs": [
    {
     "name": "stdout",
     "output_type": "stream",
     "text": [
      "\u001b[1m22/22\u001b[0m \u001b[32m━━━━━━━━━━━━━━━━━━━━\u001b[0m\u001b[37m\u001b[0m \u001b[1m0s\u001b[0m 6ms/step\n"
     ]
    }
   ],
   "source": [
    "y_pred_val = model.predict(X_val_reshaped)\n",
    "y_pred_val_binary = (y_pred_val > 0.5).astype(int)"
   ]
  },
  {
   "cell_type": "code",
   "execution_count": 31,
   "id": "e95763e6",
   "metadata": {},
   "outputs": [
    {
     "name": "stdout",
     "output_type": "stream",
     "text": [
      "Accuracy 0.9589442815249267\n",
      "Precision 0.6709261686325907\n",
      "Recall 0.7364048338368581\n",
      "F1 Score 0.6976950354609929\n",
      "Validation Classification Report:\n",
      "               precision    recall  f1-score   support\n",
      "\n",
      "           0       0.98      0.97      0.98       662\n",
      "           1       0.36      0.50      0.42        20\n",
      "\n",
      "    accuracy                           0.96       682\n",
      "   macro avg       0.67      0.74      0.70       682\n",
      "weighted avg       0.97      0.96      0.96       682\n",
      "\n"
     ]
    }
   ],
   "source": [
    "# Evaluate the model's performance on the Validation set\n",
    "val_accuracy = accuracy_score(y_val_reshaped, y_pred_val_binary)\n",
    "precision = precision_score(y_val_reshaped, y_pred_val_binary,average='macro')\n",
    "recall = recall_score(y_val_reshaped, y_pred_val_binary,average='macro')\n",
    "f1_value = f1_score(y_val_reshaped, y_pred_val_binary,average='macro')\n",
    "val_report = classification_report(y_val_reshaped, y_pred_val_binary)\n",
    "\n",
    "print(\"Accuracy\", val_accuracy)\n",
    "print(\"Precision\", precision)\n",
    "print(\"Recall\", recall)\n",
    "print(\"F1 Score\", f1_value)\n",
    "print(\"Validation Classification Report:\\n\", val_report)"
   ]
  },
  {
   "cell_type": "code",
   "execution_count": 32,
   "id": "d6f20fb1",
   "metadata": {},
   "outputs": [
    {
     "name": "stdout",
     "output_type": "stream",
     "text": [
      "Confusion Matrix\n",
      "[[644  18]\n",
      " [ 10  10]]\n"
     ]
    }
   ],
   "source": [
    "conf_matrix = confusion_matrix(y_val_reshaped.ravel(), y_pred_val_binary.ravel())\n",
    "print(\"Confusion Matrix\")\n",
    "print(conf_matrix)"
   ]
  },
  {
   "cell_type": "code",
   "execution_count": 33,
   "id": "c2922c2a",
   "metadata": {},
   "outputs": [
    {
     "name": "stdout",
     "output_type": "stream",
     "text": [
      "\u001b[1m22/22\u001b[0m \u001b[32m━━━━━━━━━━━━━━━━━━━━\u001b[0m\u001b[37m\u001b[0m \u001b[1m0s\u001b[0m 776us/step\n"
     ]
    }
   ],
   "source": [
    "y_pred_test = model.predict(X_test_reshaped)\n",
    "y_pred_test_binary = (y_pred_test > 0.5).astype(int)"
   ]
  },
  {
   "cell_type": "code",
   "execution_count": 34,
   "id": "d0e97221",
   "metadata": {},
   "outputs": [
    {
     "name": "stdout",
     "output_type": "stream",
     "text": [
      "Accuracy 0.9486803519061584\n",
      "Precision 0.6923758865248227\n",
      "Recall 0.6505376344086021\n",
      "F1 Score 0.6684491978609626\n",
      "Validation Classification Report:\n",
      "               precision    recall  f1-score   support\n",
      "\n",
      "           0       0.97      0.98      0.97       651\n",
      "           1       0.42      0.32      0.36        31\n",
      "\n",
      "    accuracy                           0.95       682\n",
      "   macro avg       0.69      0.65      0.67       682\n",
      "weighted avg       0.94      0.95      0.95       682\n",
      "\n"
     ]
    }
   ],
   "source": [
    "# Evaluate the model's performance on the Testing set\n",
    "val_accuracy = accuracy_score(y_test_reshaped, y_pred_test_binary)\n",
    "precision = precision_score(y_test_reshaped, y_pred_test_binary,average='macro')\n",
    "recall = recall_score(y_test_reshaped, y_pred_test_binary,average='macro')\n",
    "f1_value = f1_score(y_test_reshaped, y_pred_test_binary,average='macro')\n",
    "val_report = classification_report(y_test_reshaped, y_pred_test_binary)\n",
    "\n",
    "print(\"Accuracy\", val_accuracy)\n",
    "print(\"Precision\", precision)\n",
    "print(\"Recall\", recall)\n",
    "print(\"F1 Score\", f1_value)\n",
    "print(\"Validation Classification Report:\\n\", val_report)"
   ]
  },
  {
   "cell_type": "code",
   "execution_count": 35,
   "id": "3d0b081e",
   "metadata": {},
   "outputs": [
    {
     "name": "stdout",
     "output_type": "stream",
     "text": [
      "Confusion Matrix\n",
      "[[637  14]\n",
      " [ 21  10]]\n"
     ]
    }
   ],
   "source": [
    "conf_matrix = confusion_matrix(y_test_reshaped.ravel(), y_pred_test_binary.ravel())\n",
    "print(\"Confusion Matrix\")\n",
    "print(conf_matrix)"
   ]
  },
  {
   "cell_type": "code",
   "execution_count": 36,
   "id": "eda9136b",
   "metadata": {},
   "outputs": [
    {
     "data": {
      "image/png": "[encoded data removed]",
      "text/plain": [
       "<Figure size 576x576 with 1 Axes>"
      ]
     },
     "metadata": {
      "needs_background": "light"
     },
     "output_type": "display_data"
    }
   ],
   "source": [
    "# Compute ROC curve and ROC area for each class\n",
    "fpr_val, tpr_val, _ = roc_curve(y_val_reshaped.ravel(), y_pred_val_binary.ravel())\n",
    "roc_auc_val = auc(fpr_val, tpr_val)\n",
    "\n",
    "fpr_test, tpr_test, _ = roc_curve(y_test_reshaped.ravel(), y_pred_test_binary.ravel())\n",
    "roc_auc_test = auc(fpr_test, tpr_test)\n",
    "\n",
    "# Plot ROC curve\n",
    "plt.figure(figsize=(8, 8))\n",
    "plt.plot(fpr_val, tpr_val, color='darkorange', lw=2, label=f'Validation ROC curve (area = {roc_auc_val:.2f})')\n",
    "plt.plot(fpr_test, tpr_test, color='green', lw=2, label=f'Test ROC curve (area = {roc_auc_test:.2f})')\n",
    "plt.plot([0, 1], [0, 1], color='navy', lw=2, linestyle='--')\n",
    "plt.xlim([0.0, 1.0])\n",
    "plt.ylim([0.0, 1.05])\n",
    "plt.xlabel('False Positive Rate')\n",
    "plt.ylabel('True Positive Rate')\n",
    "plt.title('Receiver Operating Characteristic (ROC) Curve')\n",
    "plt.legend(loc=\"lower right\")\n",
    "plt.show()"
   ]
  }
 ],
 "metadata": {
  "kernelspec": {
   "display_name": "Python 3 (ipykernel)",
   "language": "python",
   "name": "python3"
  },
  "language_info": {
   "codemirror_mode": {
    "name": "ipython",
    "version": 3
   },
   "file_extension": ".py",
   "mimetype": "text/x-python",
   "name": "python",
   "nbconvert_exporter": "python",
   "pygments_lexer": "ipython3",
   "version": "3.9.12"
  }
 },
 "nbformat": 4,
 "nbformat_minor": 5
}
