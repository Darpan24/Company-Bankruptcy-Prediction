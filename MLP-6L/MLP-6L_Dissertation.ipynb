{
 "cells": [
  {
   "cell_type": "code",
   "execution_count": 1,
   "id": "554c15f4",
   "metadata": {},
   "outputs": [
    {
     "name": "stderr",
     "output_type": "stream",
     "text": [
      "C:\\Users\\agarw\\anaconda3\\lib\\site-packages\\scipy\\__init__.py:146: UserWarning: A NumPy version >=1.16.5 and <1.23.0 is required for this version of SciPy (detected version 1.26.2\n",
      "  warnings.warn(f\"A NumPy version >={np_minversion} and <{np_maxversion}\"\n"
     ]
    }
   ],
   "source": [
    "import pandas as pd\n",
    "import numpy as np\n",
    "import seaborn as sns\n",
    "import matplotlib.pyplot as plt\n",
    "\n",
    "import warnings\n",
    "warnings.filterwarnings(action=\"ignore\")\n",
    "\n",
    "from sklearn.model_selection import train_test_split\n",
    "from sklearn.metrics import accuracy_score, classification_report\n",
    "from sklearn.ensemble import AdaBoostClassifier\n",
    "from sklearn.neural_network import BernoulliRBM\n",
    "from sklearn.preprocessing import StandardScaler\n",
    "from imblearn.over_sampling import SMOTE\n",
    "import tensorflow as tf\n",
    "from tensorflow.keras.models import Sequential\n",
    "from tensorflow.keras.layers import Dense\n",
    "from tensorflow.keras.layers import LSTM\n",
    "from sklearn.metrics import roc_curve, auc\n",
    "\n",
    "from sklearn import metrics\n",
    "from sklearn.metrics import confusion_matrix\n",
    "from sklearn.datasets import make_classification\n",
    "from sklearn.metrics import accuracy_score, precision_score, recall_score, f1_score"
   ]
  },
  {
   "cell_type": "code",
   "execution_count": 2,
   "id": "e662bfff",
   "metadata": {},
   "outputs": [],
   "source": [
    "#importing data from the dataset\n",
    "df = pd.read_csv(r\"C:\\Users\\agarw\\OneDrive\\Desktop\\Dissertation\\data.csv\")"
   ]
  },
  {
   "cell_type": "code",
   "execution_count": 3,
   "id": "6977813a",
   "metadata": {},
   "outputs": [
    {
     "data": {
      "text/plain": [
       "Bankrupt?\n",
       "0    6599\n",
       "1     220\n",
       "Name: count, dtype: int64"
      ]
     },
     "execution_count": 3,
     "metadata": {},
     "output_type": "execute_result"
    }
   ],
   "source": [
    "#checking for bankrupt companies 0 is non-bankrupt and 1 is bankrupt\n",
    "bankrupt_data = df['Bankrupt?'].value_counts()\n",
    "bankrupt_data"
   ]
  },
  {
   "cell_type": "code",
   "execution_count": 4,
   "id": "a4c59409",
   "metadata": {},
   "outputs": [
    {
     "data": {
      "image/png": "[encoded data removed]",
      "text/plain": [
       "<Figure size 720x360 with 1 Axes>"
      ]
     },
     "metadata": {
      "needs_background": "light"
     },
     "output_type": "display_data"
    }
   ],
   "source": [
    "#Distribution representation\n",
    "plt.figure(figsize = (10,5))\n",
    "colors = [\"#3498db\", \"#e74c3c\"]\n",
    "ax = sns.countplot(x=df['Bankrupt?'], data=df,palette=colors)\n",
    "for p in ax.patches:\n",
    "    ax.annotate(f'{p.get_height()}', (p.get_x() + p.get_width() / 2., p.get_height()),\n",
    "                ha='center', va='center', xytext=(0, 10), textcoords='offset points')\n",
    "# Add labels and title\n",
    "plt.xlabel('Bankrupt')\n",
    "plt.ylabel('Count')\n",
    "plt.title('Distribution of Bankrupt')\n",
    "\n",
    "# Show the plot\n",
    "plt.show()"
   ]
  },
  {
   "cell_type": "code",
   "execution_count": 5,
   "id": "896b8a95",
   "metadata": {},
   "outputs": [],
   "source": [
    "# seperate the Bankrupt label from the dataset \n",
    "y = df['Bankrupt?']\n",
    "X = df.drop(['Bankrupt?'], axis = 1)"
   ]
  },
  {
   "cell_type": "code",
   "execution_count": 6,
   "id": "a4c45e76",
   "metadata": {},
   "outputs": [],
   "source": [
    "# divinding our dataset into training dataset\n",
    "X_train, X_temp, y_train, y_temp = train_test_split(X, y, test_size=0.3, random_state=42)"
   ]
  },
  {
   "cell_type": "code",
   "execution_count": 7,
   "id": "7710d669",
   "metadata": {},
   "outputs": [
    {
     "data": {
      "image/png": "[encoded data removed]",
      "text/plain": [
       "<Figure size 720x360 with 1 Axes>"
      ]
     },
     "metadata": {
      "needs_background": "light"
     },
     "output_type": "display_data"
    }
   ],
   "source": [
    "plt.figure(figsize = (10,5))\n",
    "colors = [\"#3498db\", \"#e74c3c\"]\n",
    "ax = sns.countplot(x=y_train, data=df,palette=colors)\n",
    "for p in ax.patches:\n",
    "    ax.annotate(f'{p.get_height()}', (p.get_x() + p.get_width() / 2., p.get_height()),\n",
    "                ha='center', va='center', xytext=(0, 10), textcoords='offset points')\n",
    "# Add labels and title\n",
    "plt.xlabel('Bankrupt')\n",
    "plt.ylabel('Count')\n",
    "plt.title('Distribution of Bankrupt')\n",
    "\n",
    "# Show the plot\n",
    "plt.show()"
   ]
  },
  {
   "cell_type": "code",
   "execution_count": 8,
   "id": "b459d418",
   "metadata": {},
   "outputs": [],
   "source": [
    "# divinding our dataset into testing and validation \n",
    "X_val, X_test, y_val, y_test = train_test_split(X_temp, y_temp, test_size=0.5, random_state=42)"
   ]
  },
  {
   "cell_type": "code",
   "execution_count": 9,
   "id": "cac443b4",
   "metadata": {},
   "outputs": [],
   "source": [
    "# Standardize the data\n",
    "scaler = StandardScaler()\n",
    "X_train = scaler.fit_transform(X_train)\n",
    "X_val = scaler.transform(X_val)\n",
    "X_test = scaler.transform(X_test)"
   ]
  },
  {
   "cell_type": "code",
   "execution_count": 10,
   "id": "48d1ddac",
   "metadata": {},
   "outputs": [],
   "source": [
    "# Step 4: Build the MLP model\n",
    "model = tf.keras.Sequential([\n",
    "    tf.keras.layers.Dense(128, activation='relu', input_shape=(X_train.shape[1],)),\n",
    "    tf.keras.layers.BatchNormalization(),\n",
    "    tf.keras.layers.Dense(64, activation='relu'),\n",
    "    tf.keras.layers.BatchNormalization(),\n",
    "    tf.keras.layers.Dense(32, activation='relu'),\n",
    "    tf.keras.layers.BatchNormalization(),\n",
    "    tf.keras.layers.Dense(16, activation='relu'),\n",
    "    tf.keras.layers.BatchNormalization(),\n",
    "    tf.keras.layers.Dense(8, activation='relu'),\n",
    "    tf.keras.layers.BatchNormalization(),\n",
    "    tf.keras.layers.Dense(1, activation='sigmoid')\n",
    "])"
   ]
  },
  {
   "cell_type": "code",
   "execution_count": 11,
   "id": "0e9cdf7c",
   "metadata": {},
   "outputs": [],
   "source": [
    "model.compile(optimizer='adam', loss='binary_crossentropy', metrics=['accuracy'])"
   ]
  },
  {
   "cell_type": "code",
   "execution_count": 12,
   "id": "f1252bbf",
   "metadata": {},
   "outputs": [
    {
     "name": "stdout",
     "output_type": "stream",
     "text": [
      "Epoch 1/50\n",
      "150/150 - 3s - 20ms/step - accuracy: 0.7241 - loss: 0.6164\n",
      "Epoch 2/50\n",
      "150/150 - 0s - 2ms/step - accuracy: 0.9529 - loss: 0.3607\n",
      "Epoch 3/50\n",
      "150/150 - 0s - 2ms/step - accuracy: 0.9702 - loss: 0.2051\n",
      "Epoch 4/50\n",
      "150/150 - 0s - 2ms/step - accuracy: 0.9692 - loss: 0.1335\n",
      "Epoch 5/50\n",
      "150/150 - 0s - 2ms/step - accuracy: 0.9705 - loss: 0.1073\n",
      "Epoch 6/50\n",
      "150/150 - 0s - 2ms/step - accuracy: 0.9709 - loss: 0.0944\n",
      "Epoch 7/50\n",
      "150/150 - 0s - 2ms/step - accuracy: 0.9730 - loss: 0.0885\n",
      "Epoch 8/50\n",
      "150/150 - 0s - 2ms/step - accuracy: 0.9728 - loss: 0.0839\n",
      "Epoch 9/50\n",
      "150/150 - 0s - 2ms/step - accuracy: 0.9723 - loss: 0.0786\n",
      "Epoch 10/50\n",
      "150/150 - 0s - 2ms/step - accuracy: 0.9753 - loss: 0.0739\n",
      "Epoch 11/50\n",
      "150/150 - 0s - 2ms/step - accuracy: 0.9742 - loss: 0.0765\n",
      "Epoch 12/50\n",
      "150/150 - 0s - 2ms/step - accuracy: 0.9711 - loss: 0.0742\n",
      "Epoch 13/50\n",
      "150/150 - 0s - 2ms/step - accuracy: 0.9763 - loss: 0.0674\n",
      "Epoch 14/50\n",
      "150/150 - 0s - 2ms/step - accuracy: 0.9749 - loss: 0.0655\n",
      "Epoch 15/50\n",
      "150/150 - 0s - 2ms/step - accuracy: 0.9755 - loss: 0.0649\n",
      "Epoch 16/50\n",
      "150/150 - 0s - 2ms/step - accuracy: 0.9765 - loss: 0.0609\n",
      "Epoch 17/50\n",
      "150/150 - 0s - 2ms/step - accuracy: 0.9763 - loss: 0.0600\n",
      "Epoch 18/50\n",
      "150/150 - 0s - 2ms/step - accuracy: 0.9759 - loss: 0.0594\n",
      "Epoch 19/50\n",
      "150/150 - 0s - 2ms/step - accuracy: 0.9780 - loss: 0.0553\n",
      "Epoch 20/50\n",
      "150/150 - 0s - 2ms/step - accuracy: 0.9811 - loss: 0.0528\n",
      "Epoch 21/50\n",
      "150/150 - 0s - 2ms/step - accuracy: 0.9807 - loss: 0.0507\n",
      "Epoch 22/50\n",
      "150/150 - 0s - 2ms/step - accuracy: 0.9828 - loss: 0.0485\n",
      "Epoch 23/50\n",
      "150/150 - 0s - 2ms/step - accuracy: 0.9847 - loss: 0.0457\n",
      "Epoch 24/50\n",
      "150/150 - 0s - 2ms/step - accuracy: 0.9841 - loss: 0.0433\n",
      "Epoch 25/50\n",
      "150/150 - 0s - 2ms/step - accuracy: 0.9853 - loss: 0.0427\n",
      "Epoch 26/50\n",
      "150/150 - 0s - 2ms/step - accuracy: 0.9845 - loss: 0.0417\n",
      "Epoch 27/50\n",
      "150/150 - 0s - 2ms/step - accuracy: 0.9826 - loss: 0.0403\n",
      "Epoch 28/50\n",
      "150/150 - 0s - 2ms/step - accuracy: 0.9849 - loss: 0.0438\n",
      "Epoch 29/50\n",
      "150/150 - 0s - 2ms/step - accuracy: 0.9878 - loss: 0.0333\n",
      "Epoch 30/50\n",
      "150/150 - 0s - 2ms/step - accuracy: 0.9868 - loss: 0.0354\n",
      "Epoch 31/50\n",
      "150/150 - 0s - 2ms/step - accuracy: 0.9874 - loss: 0.0312\n",
      "Epoch 32/50\n",
      "150/150 - 0s - 2ms/step - accuracy: 0.9876 - loss: 0.0327\n",
      "Epoch 33/50\n",
      "150/150 - 0s - 2ms/step - accuracy: 0.9893 - loss: 0.0377\n",
      "Epoch 34/50\n",
      "150/150 - 0s - 2ms/step - accuracy: 0.9902 - loss: 0.0317\n",
      "Epoch 35/50\n",
      "150/150 - 0s - 2ms/step - accuracy: 0.9870 - loss: 0.0340\n",
      "Epoch 36/50\n",
      "150/150 - 0s - 2ms/step - accuracy: 0.9893 - loss: 0.0288\n",
      "Epoch 37/50\n",
      "150/150 - 0s - 2ms/step - accuracy: 0.9887 - loss: 0.0269\n",
      "Epoch 38/50\n",
      "150/150 - 0s - 2ms/step - accuracy: 0.9897 - loss: 0.0284\n",
      "Epoch 39/50\n",
      "150/150 - 0s - 2ms/step - accuracy: 0.9918 - loss: 0.0233\n",
      "Epoch 40/50\n",
      "150/150 - 0s - 2ms/step - accuracy: 0.9895 - loss: 0.0256\n",
      "Epoch 41/50\n",
      "150/150 - 0s - 2ms/step - accuracy: 0.9883 - loss: 0.0336\n",
      "Epoch 42/50\n",
      "150/150 - 0s - 2ms/step - accuracy: 0.9876 - loss: 0.0329\n",
      "Epoch 43/50\n",
      "150/150 - 0s - 2ms/step - accuracy: 0.9922 - loss: 0.0237\n",
      "Epoch 44/50\n",
      "150/150 - 0s - 2ms/step - accuracy: 0.9889 - loss: 0.0336\n",
      "Epoch 45/50\n",
      "150/150 - 0s - 2ms/step - accuracy: 0.9914 - loss: 0.0234\n",
      "Epoch 46/50\n",
      "150/150 - 0s - 2ms/step - accuracy: 0.9910 - loss: 0.0244\n",
      "Epoch 47/50\n",
      "150/150 - 0s - 2ms/step - accuracy: 0.9912 - loss: 0.0242\n",
      "Epoch 48/50\n",
      "150/150 - 0s - 2ms/step - accuracy: 0.9939 - loss: 0.0307\n",
      "Epoch 49/50\n",
      "150/150 - 0s - 2ms/step - accuracy: 0.9878 - loss: 0.0320\n",
      "Epoch 50/50\n",
      "150/150 - 0s - 2ms/step - accuracy: 0.9912 - loss: 0.0253\n"
     ]
    },
    {
     "data": {
      "text/plain": [
       "<keras.src.callbacks.history.History at 0x21e8e25ce80>"
      ]
     },
     "execution_count": 12,
     "metadata": {},
     "output_type": "execute_result"
    }
   ],
   "source": [
    "model.fit(X_train, y_train, epochs=50, batch_size=32, verbose = 2)"
   ]
  },
  {
   "cell_type": "code",
   "execution_count": 13,
   "id": "9d3fb0fc",
   "metadata": {},
   "outputs": [
    {
     "name": "stdout",
     "output_type": "stream",
     "text": [
      "\u001b[1m32/32\u001b[0m \u001b[32m━━━━━━━━━━━━━━━━━━━━\u001b[0m\u001b[37m\u001b[0m \u001b[1m0s\u001b[0m 4ms/step\n"
     ]
    }
   ],
   "source": [
    "y_pred_val = (model.predict(X_val) > 0.5).astype(int)"
   ]
  },
  {
   "cell_type": "code",
   "execution_count": 14,
   "id": "02ff7993",
   "metadata": {},
   "outputs": [
    {
     "name": "stdout",
     "output_type": "stream",
     "text": [
      "Accuracy 0.9618768328445748\n",
      "Precision 0.5\n",
      "Recall 0.28205128205128205\n",
      "F1 Score 0.36065573770491804\n",
      "Validation Classification Report:\n",
      "               precision    recall  f1-score   support\n",
      "\n",
      "           0       0.97      0.99      0.98       984\n",
      "           1       0.50      0.28      0.36        39\n",
      "\n",
      "    accuracy                           0.96      1023\n",
      "   macro avg       0.74      0.64      0.67      1023\n",
      "weighted avg       0.95      0.96      0.96      1023\n",
      "\n"
     ]
    }
   ],
   "source": [
    "# Evaluate the model's performance on the Validation set\n",
    "val_accuracy = accuracy_score(y_val, y_pred_val)\n",
    "precision = precision_score(y_val, y_pred_val)\n",
    "recall = recall_score(y_val, y_pred_val)\n",
    "f1_value = f1_score(y_val, y_pred_val)\n",
    "val_report = classification_report(y_val, y_pred_val)\n",
    "\n",
    "print(\"Accuracy\", val_accuracy)\n",
    "print(\"Precision\", precision)\n",
    "print(\"Recall\", recall)\n",
    "print(\"F1 Score\", f1_value)\n",
    "print(\"Validation Classification Report:\\n\", val_report)"
   ]
  },
  {
   "cell_type": "code",
   "execution_count": 15,
   "id": "2c0bc324",
   "metadata": {},
   "outputs": [
    {
     "name": "stdout",
     "output_type": "stream",
     "text": [
      "Confusion Matrix\n",
      "[[973  11]\n",
      " [ 28  11]]\n"
     ]
    }
   ],
   "source": [
    "conf_matrix = confusion_matrix(y_val, y_pred_val)\n",
    "print(\"Confusion Matrix\")\n",
    "print(conf_matrix)"
   ]
  },
  {
   "cell_type": "code",
   "execution_count": 16,
   "id": "f907852f",
   "metadata": {},
   "outputs": [
    {
     "name": "stdout",
     "output_type": "stream",
     "text": [
      "\u001b[1m32/32\u001b[0m \u001b[32m━━━━━━━━━━━━━━━━━━━━\u001b[0m\u001b[37m\u001b[0m \u001b[1m0s\u001b[0m 802us/step\n"
     ]
    }
   ],
   "source": [
    "y_pred_test = (model.predict(X_test) > 0.5).astype(int)"
   ]
  },
  {
   "cell_type": "code",
   "execution_count": 17,
   "id": "7af04ea5",
   "metadata": {},
   "outputs": [
    {
     "name": "stdout",
     "output_type": "stream",
     "text": [
      "Accuracy 0.9560117302052786\n",
      "Precision 0.3125\n",
      "Recall 0.1282051282051282\n",
      "F1 Score 0.1818181818181818\n",
      "Validation Classification Report:\n",
      "               precision    recall  f1-score   support\n",
      "\n",
      "           0       0.97      0.99      0.98       984\n",
      "           1       0.31      0.13      0.18        39\n",
      "\n",
      "    accuracy                           0.96      1023\n",
      "   macro avg       0.64      0.56      0.58      1023\n",
      "weighted avg       0.94      0.96      0.95      1023\n",
      "\n"
     ]
    }
   ],
   "source": [
    "# Evaluate the model's performance on the Validation set\n",
    "val_accuracy = accuracy_score(y_test, y_pred_test)\n",
    "precision = precision_score(y_test, y_pred_test)\n",
    "recall = recall_score(y_test, y_pred_test)\n",
    "f1_value = f1_score(y_test, y_pred_test)\n",
    "val_report = classification_report(y_test, y_pred_test)\n",
    "\n",
    "print(\"Accuracy\", val_accuracy)\n",
    "print(\"Precision\", precision)\n",
    "print(\"Recall\", recall)\n",
    "print(\"F1 Score\", f1_value)\n",
    "print(\"Validation Classification Report:\\n\", val_report)"
   ]
  },
  {
   "cell_type": "code",
   "execution_count": 18,
   "id": "b935cfa0",
   "metadata": {},
   "outputs": [
    {
     "name": "stdout",
     "output_type": "stream",
     "text": [
      "Confusion Matrix\n",
      "[[973  11]\n",
      " [ 34   5]]\n"
     ]
    }
   ],
   "source": [
    "conf_matrix = confusion_matrix(y_test, y_pred_test)\n",
    "print(\"Confusion Matrix\")\n",
    "print(conf_matrix)"
   ]
  },
  {
   "cell_type": "code",
   "execution_count": 19,
   "id": "7649a812",
   "metadata": {},
   "outputs": [
    {
     "data": {
      "image/png": "[encoded data removed]",
      "text/plain": [
       "<Figure size 576x576 with 1 Axes>"
      ]
     },
     "metadata": {
      "needs_background": "light"
     },
     "output_type": "display_data"
    }
   ],
   "source": [
    "# Compute ROC curve and ROC area for each class\n",
    "fpr_val, tpr_val, _ = roc_curve(y_val, y_pred_val)\n",
    "roc_auc_val = auc(fpr_val, tpr_val)\n",
    "\n",
    "fpr_test, tpr_test, _ = roc_curve(y_test, y_pred_test)\n",
    "roc_auc_test = auc(fpr_test, tpr_test)\n",
    "\n",
    "# Plot ROC curve\n",
    "plt.figure(figsize=(8, 8))\n",
    "plt.plot(fpr_val, tpr_val, color='darkorange', lw=2, label=f'Validation ROC curve (area = {roc_auc_val:.2f})')\n",
    "plt.plot(fpr_test, tpr_test, color='green', lw=2, label=f'Test ROC curve (area = {roc_auc_test:.2f})')\n",
    "plt.plot([0, 1], [0, 1], color='navy', lw=2, linestyle='--')\n",
    "plt.xlim([0.0, 1.0])\n",
    "plt.ylim([0.0, 1.05])\n",
    "plt.xlabel('False Positive Rate')\n",
    "plt.ylabel('True Positive Rate')\n",
    "plt.title('Receiver Operating Characteristic (ROC) Curve')\n",
    "plt.legend(loc=\"lower right\")\n",
    "plt.show()"
   ]
  }
 ],
 "metadata": {
  "kernelspec": {
   "display_name": "Python 3 (ipykernel)",
   "language": "python",
   "name": "python3"
  },
  "language_info": {
   "codemirror_mode": {
    "name": "ipython",
    "version": 3
   },
   "file_extension": ".py",
   "mimetype": "text/x-python",
   "name": "python",
   "nbconvert_exporter": "python",
   "pygments_lexer": "ipython3",
   "version": "3.9.12"
  }
 },
 "nbformat": 4,
 "nbformat_minor": 5
}
